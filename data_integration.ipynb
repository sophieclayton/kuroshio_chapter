{
 "cells": [
  {
   "cell_type": "code",
   "execution_count": 1,
   "metadata": {
    "collapsed": false
   },
   "outputs": [
    {
     "name": "stderr",
     "output_type": "stream",
     "text": [
      "/Users/sclayton/anaconda/lib/python2.7/site-packages/matplotlib/font_manager.py:273: UserWarning: Matplotlib is building the font cache using fc-list. This may take a moment.\n",
      "  warnings.warn('Matplotlib is building the font cache using fc-list. This may take a moment.')\n"
     ]
    }
   ],
   "source": [
    "% matplotlib inline\n",
    "\n",
    "import numpy as np\n",
    "import pandas as pd\n",
    "from math import *\n",
    "import matplotlib.pyplot as plt\n",
    "import scipy.io as sio\n",
    "from mpl_toolkits.basemap import Basemap, cm\n",
    "import gsw as sw\n",
    "import scipy.stats as ss\n",
    "from scipy.cluster.hierarchy import dendrogram, linkage, cophenet\n",
    "from scipy.spatial.distance import pdist\n",
    "\n",
    "from netCDF4 import Dataset\n",
    "\n",
    "from matplotlib import rcParams\n",
    "rcParams.update({'figure.autolayout': True})\n",
    "rcParams.update({'font.family': 'serif'})\n",
    "rcParams.update({'font.serif': 'Times New Roman'})"
   ]
  },
  {
   "cell_type": "code",
   "execution_count": 2,
   "metadata": {
    "collapsed": false
   },
   "outputs": [
    {
     "name": "stdout",
     "output_type": "stream",
     "text": [
      "Index([u'station', u'lat', u'lon', u'bottle', u'depth (m)', u'fluorescence',\n",
      "       u'chlorophyll (ug/l)', u'Unnamed: 7'],\n",
      "      dtype='object')\n"
     ]
    }
   ],
   "source": [
    "# import cruise data\n",
    "\n",
    "in_file = '../data/KuroAlldata.csv'\n",
    "data = pd.read_csv(in_file, sep = ',')\n",
    "\n",
    "in_file = '../data/Kuroshio_Phytoplankton.csv'\n",
    "phyto = pd.read_csv(in_file, sep = ',')\n",
    "\n",
    "in_file = '../data/Kuro_chl_coords.csv'\n",
    "chl = pd.read_csv(in_file, sep = ',')\n",
    "\n",
    "print chl.columns"
   ]
  },
  {
   "cell_type": "code",
   "execution_count": 3,
   "metadata": {
    "collapsed": false
   },
   "outputs": [
    {
     "name": "stdout",
     "output_type": "stream",
     "text": [
      "estimated calibration slope =  1.24413568902 , r =  0.937132630412 , p-value < 0.05  True\n"
     ]
    }
   ],
   "source": [
    "# do chl calibration\n",
    "\n",
    "sub = chl[['fluorescence', 'chlorophyll (ug/l)']].dropna()\n",
    "\n",
    "mT,cT, rT, pT, std_errT = ss.linregress(sub['fluorescence'],sub['chlorophyll (ug/l)'])\n",
    "chl['CHL'] = mT*chl['fluorescence']+cT\n",
    "\n",
    "# plt.plot(np.arange(-0.1, 1.1, 0.1), mT*(np.arange(-0.1, 1.1, 0.1))+cT, 'r')\n",
    "# plt.plot(chl['fluorescence'], chl['chlorophyll (ug/l)'], '.')\n",
    "# plt.plot(chl['fluorescence'], chl['CHL'], 'xb')\n",
    "# plt.show()\n",
    "\n",
    "print 'estimated calibration slope = ', mT, ', r = ', rT, ', p-value < 0.05 ', pT<0.05\n",
    "\n",
    "#integrate fluorescence and T, S data\n",
    "sub = data[['station','bottle', 'depth (m)', 'T(C)', 'theta', 'S', 'sigma_t']]\n",
    "\n",
    "temp = chl.merge(sub, on = ['station','bottle', 'depth (m)'], how = 'inner')\n",
    "temp = temp.drop(['chlorophyll (ug/l)', 'Unnamed: 7'], axis = 1).dropna()\n",
    "\n",
    "#temp['pt'] = sw.conversions.pt0_from_t(temp['S'],temp['T(C)'], temp['depth (m)']) \n",
    "#print temp[['depth (m)', 'T(C)','theta', 'pt']]"
   ]
  },
  {
   "cell_type": "code",
   "execution_count": 14,
   "metadata": {
    "collapsed": false
   },
   "outputs": [
    {
     "data": {
      "text/plain": [
       "0.85275978846407041"
      ]
     },
     "execution_count": 14,
     "metadata": {},
     "output_type": "execute_result"
    }
   ],
   "source": [
    "# cluster stations based on T/S\n",
    "sub = pd.DataFrame()\n",
    "sub['S'] = (temp['S']-np.min(temp['S']))/(max(temp['S'])-min(temp['S']))\n",
    "sub['theta'] = (temp['theta']-np.min(temp['theta']))/(max(temp['theta'])-min(temp['theta']))\n",
    "# sub['CHL'] = (temp['CHL']-np.min(temp['CHL']))/(max(temp['CHL'])-min(temp['CHL']))\n",
    "\n",
    "Z = linkage(sub, 'ward')\n",
    "\n",
    "c, coph_dists = cophenet(Z, pdist(sub))\n",
    "c"
   ]
  },
  {
   "cell_type": "code",
   "execution_count": 19,
   "metadata": {
    "collapsed": false
   },
   "outputs": [
    {
     "data": {
      "image/png": "[encoded data removed]",
      "text/plain": [
       "<matplotlib.figure.Figure at 0x11ac99450>"
      ]
     },
     "metadata": {},
     "output_type": "display_data"
    }
   ],
   "source": [
    "plt.figure(figsize=(20, 10))\n",
    "plt.title('Hierarchical Clustering Dendrogram')\n",
    "plt.xlabel('sample index')\n",
    "plt.ylabel('distance')\n",
    "dendrogram(\n",
    "    Z,\n",
    "    leaf_rotation=90.,  # rotates the x axis labels\n",
    "    leaf_font_size=22.,  # font size for the x axis labels\n",
    ")\n",
    "plt.show()"
   ]
  },
  {
   "cell_type": "code",
   "execution_count": 16,
   "metadata": {
    "collapsed": false
   },
   "outputs": [
    {
     "data": {
      "text/plain": [
       "0       1\n",
       "1       1\n",
       "2       1\n",
       "3       1\n",
       "4       1\n",
       "5       2\n",
       "6       2\n",
       "7       2\n",
       "8       2\n",
       "9       2\n",
       "10      3\n",
       "11      3\n",
       "12      3\n",
       "13      3\n",
       "14      3\n",
       "15      4\n",
       "16      4\n",
       "17      4\n",
       "18      4\n",
       "19      4\n",
       "20      5\n",
       "21      5\n",
       "22      5\n",
       "23      5\n",
       "24      5\n",
       "25      6\n",
       "26      6\n",
       "27      6\n",
       "28      6\n",
       "29      6\n",
       "       ..\n",
       "175    36\n",
       "176    36\n",
       "177    36\n",
       "178    36\n",
       "179    36\n",
       "180    37\n",
       "181    37\n",
       "182    37\n",
       "183    37\n",
       "184    37\n",
       "185    38\n",
       "186    38\n",
       "187    38\n",
       "188    38\n",
       "189    38\n",
       "190    39\n",
       "191    39\n",
       "192    39\n",
       "193    39\n",
       "194    39\n",
       "195    40\n",
       "196    40\n",
       "197    40\n",
       "198    40\n",
       "199    40\n",
       "200    41\n",
       "201    41\n",
       "202    41\n",
       "203    41\n",
       "204    41\n",
       "Name: station, dtype: int64"
      ]
     },
     "execution_count": 16,
     "metadata": {},
     "output_type": "execute_result"
    }
   ],
   "source": [
    "chl['station']"
   ]
  },
  {
   "cell_type": "code",
   "execution_count": null,
   "metadata": {
    "collapsed": true
   },
   "outputs": [],
   "source": []
  }
 ],
 "metadata": {
  "kernelspec": {
   "display_name": "Python 2",
   "language": "python",
   "name": "python2"
  },
  "language_info": {
   "codemirror_mode": {
    "name": "ipython",
    "version": 2
   },
   "file_extension": ".py",
   "mimetype": "text/x-python",
   "name": "python",
   "nbconvert_exporter": "python",
   "pygments_lexer": "ipython2",
   "version": "2.7.11"
  }
 },
 "nbformat": 4,
 "nbformat_minor": 0
}
