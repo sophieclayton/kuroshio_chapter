{
 "cells": [
  {
   "cell_type": "code",
   "execution_count": 1,
   "metadata": {
    "collapsed": false
   },
   "outputs": [],
   "source": [
    "% matplotlib inline\n",
    "\n",
    "import numpy as np\n",
    "import pandas as pd\n",
    "from math import *\n",
    "import matplotlib.pyplot as plt\n",
    "import scipy.io as sio\n",
    "from mpl_toolkits.basemap import Basemap, cm\n",
    "import gsw as sw\n",
    "import scipy.stats as ss\n",
    "\n",
    "import seaborn as sns\n",
    "\n",
    "from netCDF4 import Dataset\n",
    "\n",
    "from matplotlib import rcParams\n",
    "rcParams.update({'figure.autolayout': True})\n",
    "rcParams.update({'font.family': 'serif'})\n",
    "rcParams.update({'font.serif': 'Times New Roman'})"
   ]
  },
  {
   "cell_type": "code",
   "execution_count": 2,
   "metadata": {
    "collapsed": true
   },
   "outputs": [],
   "source": [
    "# calculate distance between points along each transect\n",
    "\n",
    "def distance(data):\n",
    "    transect = pd.unique(data['lon'])\n",
    "    distances = pd.DataFrame()    \n",
    "    for c in transect:\n",
    "        temp = pd.DataFrame()\n",
    "        temp = data.loc[(data['lon']==c), ['lat','lon', 'depth (m)']]\n",
    "        \n",
    "        # calculate distance in km between points\n",
    "        temp['dx'] = np.insert(sw.distance(temp['lon'].values, temp['lat'].values, 0),0,0)\n",
    "        temp['x'] = np.cumsum(temp['dx'])\n",
    "        \n",
    "        if c == transect[0]:\n",
    "            distances = distances.append(temp)\n",
    "        else:\n",
    "            distances = pd.concat([distances, temp], axis=0)\n",
    "        del temp\n",
    "    data = pd.merge(left = data, right = distances, how='left', left_on=['lat','lon', 'depth (m)'], right_on=['lat','lon', 'depth (m)'])\n",
    "    #return distances\n",
    "\n",
    "    return data  "
   ]
  },
  {
   "cell_type": "code",
   "execution_count": 3,
   "metadata": {
    "collapsed": false
   },
   "outputs": [
    {
     "name": "stdout",
     "output_type": "stream",
     "text": [
      "Index([u'station', u'lat', u'lon', u'bottle', u'depth (m)', u'fluorescence',\n",
      "       u'chlorophyll (ug/l)', u'Unnamed: 7', u'dx', u'x'],\n",
      "      dtype='object')\n"
     ]
    }
   ],
   "source": [
    "# import cruise data\n",
    "\n",
    "in_file = '../data/KuroAlldata.csv'\n",
    "data = pd.read_csv(in_file, sep = ',')\n",
    "\n",
    "in_file = '../data/Kuro_chl_coords.csv'\n",
    "chl = pd.read_csv(in_file, sep = ',')\n",
    "\n",
    "chl = distance(chl)\n",
    "\n",
    "print chl.columns"
   ]
  },
  {
   "cell_type": "code",
   "execution_count": 4,
   "metadata": {
    "collapsed": false
   },
   "outputs": [
    {
     "name": "stdout",
     "output_type": "stream",
     "text": [
      "estimated calibration slope =  1.24413568902 , r =  0.937132630412 , p-value < 0.05  True\n"
     ]
    },
    {
     "name": "stderr",
     "output_type": "stream",
     "text": [
      "/Users/sclayton/anaconda/lib/python2.7/site-packages/numpy/ma/core.py:809: RuntimeWarning: invalid value encountered in greater_equal\n",
      "  return umath.absolute(a) * self.tolerance >= umath.absolute(b)\n",
      "/Users/sclayton/anaconda/lib/python2.7/site-packages/gsw-3.0.3-py2.7.egg/gsw/utilities/utilities.py:251: RuntimeWarning: invalid value encountered in less\n",
      "  SA[SA < 0] = np.ma.masked\n",
      "/Users/sclayton/anaconda/lib/python2.7/site-packages/gsw-3.0.3-py2.7.egg/gsw/gibbs/library.py:899: RuntimeWarning: invalid value encountered in greater\n",
      "  nonzero_SA = np.any(SA > 0)\n"
     ]
    }
   ],
   "source": [
    "# do chl calibration\n",
    "\n",
    "sub = chl[['fluorescence', 'chlorophyll (ug/l)']].dropna()\n",
    "\n",
    "mT,cT, rT, pT, std_errT = ss.linregress(sub['fluorescence'],sub['chlorophyll (ug/l)'])\n",
    "chl['CHL'] = mT*chl['fluorescence']+cT\n",
    "\n",
    "print 'estimated calibration slope = ', mT, ', r = ', rT, ', p-value < 0.05 ', pT<0.05\n",
    "\n",
    "#integrate fluorescence and T, S data\n",
    "sub = data[['station','bottle', 'depth (m)', 'T(C)', 'theta', 'S', 'sigma_t']]\n",
    "\n",
    "temp = chl.merge(sub, on = ['station','bottle', 'depth (m)'], how = 'inner')\n",
    "temp = temp.drop(['chlorophyll (ug/l)', 'Unnamed: 7'], axis = 1)\n",
    "\n",
    "temp['sample'] = temp[\"station\"].map(str) + '-' + temp[\"bottle\"].map(str)\n",
    "temp['theta'] = sw.conversions.pt_from_t(temp['S'], temp['T(C)'], temp['depth (m)'])\n",
    "temp = temp[temp['station']<41]\n",
    "\n",
    "temp.to_csv('../data/data_CHL.csv', sep = ',')"
   ]
  },
  {
   "cell_type": "code",
   "execution_count": null,
   "metadata": {
    "collapsed": true
   },
   "outputs": [],
   "source": []
  }
 ],
 "metadata": {
  "kernelspec": {
   "display_name": "Python 2",
   "language": "python",
   "name": "python2"
  },
  "language_info": {
   "codemirror_mode": {
    "name": "ipython",
    "version": 2
   },
   "file_extension": ".py",
   "mimetype": "text/x-python",
   "name": "python",
   "nbconvert_exporter": "python",
   "pygments_lexer": "ipython2",
   "version": "2.7.11"
  }
 },
 "nbformat": 4,
 "nbformat_minor": 0
}
