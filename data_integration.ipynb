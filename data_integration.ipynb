{
 "cells": [
  {
   "cell_type": "code",
   "execution_count": 1,
   "metadata": {
    "collapsed": false
   },
   "outputs": [
    {
     "name": "stderr",
     "output_type": "stream",
     "text": [
      "/Users/sclayton/anaconda/lib/python2.7/site-packages/matplotlib/font_manager.py:273: UserWarning: Matplotlib is building the font cache using fc-list. This may take a moment.\n",
      "  warnings.warn('Matplotlib is building the font cache using fc-list. This may take a moment.')\n"
     ]
    }
   ],
   "source": [
    "% matplotlib inline\n",
    "\n",
    "import numpy as np\n",
    "import pandas as pd\n",
    "from math import *\n",
    "import matplotlib.pyplot as plt\n",
    "import scipy.io as sio\n",
    "from mpl_toolkits.basemap import Basemap, cm\n",
    "\n",
    "from netCDF4 import Dataset\n",
    "\n",
    "from matplotlib import rcParams\n",
    "rcParams.update({'figure.autolayout': True})\n",
    "rcParams.update({'font.family': 'serif'})\n",
    "rcParams.update({'font.serif': 'Times New Roman'})"
   ]
  },
  {
   "cell_type": "code",
   "execution_count": 6,
   "metadata": {
    "collapsed": false
   },
   "outputs": [
    {
     "name": "stdout",
     "output_type": "stream",
     "text": [
      "Index([u'station', u'lat', u'lon', u'bottle', u'depth (m)', u'fluorescence',\n",
      "       u'chlorophyll (ug/l)', u'Unnamed: 7'],\n",
      "      dtype='object')\n"
     ]
    }
   ],
   "source": [
    "# import cruise data\n",
    "\n",
    "in_file = '../data/KuroAlldata.csv'\n",
    "data = pd.read_csv(in_file, sep = ',')\n",
    "\n",
    "in_file = '../data/Kuroshio_Phytoplankton.csv'\n",
    "phyto = pd.read_csv(in_file, sep = ',')\n",
    "\n",
    "in_file = '../data/Kuro_chl_coords.csv'\n",
    "chl = pd.read_csv(in_file, sep = ',')\n",
    "\n",
    "print chl.columns"
   ]
  },
  {
   "cell_type": "code",
   "execution_count": 8,
   "metadata": {
    "collapsed": false
   },
   "outputs": [
    {
     "data": {
      "text/plain": [
       "[<matplotlib.lines.Line2D at 0x119740c50>]"
      ]
     },
     "execution_count": 8,
     "metadata": {},
     "output_type": "execute_result"
    },
    {
     "data": {
      "image/png": "[encoded data removed]",
      "text/plain": [
       "<matplotlib.figure.Figure at 0x11964a510>"
      ]
     },
     "metadata": {},
     "output_type": "display_data"
    }
   ],
   "source": [
    "# do chl calibration\n",
    "\n",
    "plt.plot(chl['fluorescence'], chl['chlorophyll (ug/l)'], '.')"
   ]
  },
  {
   "cell_type": "code",
   "execution_count": null,
   "metadata": {
    "collapsed": true
   },
   "outputs": [],
   "source": [
    "# try kmeans clustering on the data"
   ]
  }
 ],
 "metadata": {
  "kernelspec": {
   "display_name": "Python 2",
   "language": "python",
   "name": "python2"
  },
  "language_info": {
   "codemirror_mode": {
    "name": "ipython",
    "version": 2
   },
   "file_extension": ".py",
   "mimetype": "text/x-python",
   "name": "python",
   "nbconvert_exporter": "python",
   "pygments_lexer": "ipython2",
   "version": "2.7.11"
  }
 },
 "nbformat": 4,
 "nbformat_minor": 0
}
